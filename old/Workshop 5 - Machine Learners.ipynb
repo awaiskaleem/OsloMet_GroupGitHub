{
 "cells": [
  {
   "cell_type": "markdown",
   "metadata": {},
   "source": [
    "<h2>Task 1</h2>\n",
    "<br>\n",
    "<font color=blue><b>Calculate (manually *and* by programming in python), the odds for a given probability in the example dataset.</b>\n",
    "<br><br>We have done this task with boht churn and titanic dataset"
   ]
  },
  {
   "cell_type": "code",
   "execution_count": 166,
   "metadata": {},
   "outputs": [
    {
     "name": "stdout",
     "output_type": "stream",
     "text": [
      "The probability for bucket  <=16  is  0\n",
      "The odds for bucket  <=16  are  0.0 \n",
      "\n",
      "The probability for bucket  17-29  is  0.814\n",
      "The odds for bucket  17-29  are  4.376 \n",
      "\n",
      "The probability for bucket  30-41  is  0.617\n",
      "The odds for bucket  30-41  are  1.611 \n",
      "\n",
      "The probability for bucket  42-53  is  0.614\n",
      "The odds for bucket  42-53  are  1.591 \n",
      "\n",
      "The probability for bucket  54-66  is  0.547\n",
      "The odds for bucket  54-66  are  1.208 \n",
      "\n",
      "The probability for bucket  >=67  is  0.545\n",
      "The odds for bucket  >=67  are  1.198 \n",
      "\n"
     ]
    }
   ],
   "source": [
    "import pandas as pd\n",
    "import numpy as np\n",
    "import matplotlib.pyplot as plt\n",
    "\n",
    "data = pd.read_excel(\"churn.xlsx\")\n",
    "\n",
    "data.head()\n",
    "\n",
    "data['Churn'].astype(str)\n",
    "data.dtypes\n",
    "#data.where(data['Chturn'].astype(str) != \"NaN\")\n",
    "data.dropna(inplace=True)\n",
    "\n",
    "overview = {\n",
    "    \"<=16\": data[data['Age']<=16],\n",
    "    \"17-29\": data[(data['Age']>=17) & (data['Age']<=29)],\n",
    "    \"30-41\": data[(data['Age']>=30) & (data['Age']<=41)],\n",
    "    \"42-53\": data[(data['Age']>=42) & (data['Age']<=53)],\n",
    "    \"54-66\": data[(data['Age']>=54) & (data['Age']<=66)],\n",
    "     \">=67\": data[data['Age']>=67]\n",
    "}\n",
    "\n",
    "def odds(p):\n",
    "    return p/(1-p)\n",
    "\n",
    "#(overview[\"17-29\"]['Churn']!='churn').sum()\n",
    "\n",
    "for k in overview: \n",
    "    probability = np.round((overview[k]['Churn'] != 'churn').sum()/overview[k].shape[0],3)\n",
    "    if probability.astype(str) == str('nan'):\n",
    "        probability = 0\n",
    "    print(\"The probability for bucket \",k,\" is \",probability)\n",
    "    print(\"The odds for bucket \",k,\" are \",np.round(odds(probability),3),'\\n')"
   ]
  },
  {
   "cell_type": "code",
   "execution_count": 165,
   "metadata": {},
   "outputs": [],
   "source": [
    "df_train = pd.read_csv(\"titanic_train.csv\")"
   ]
  },
  {
   "cell_type": "code",
   "execution_count": 4,
   "metadata": {},
   "outputs": [
    {
     "data": {
      "text/html": [
       "<div>\n",
       "<style scoped>\n",
       "    .dataframe tbody tr th:only-of-type {\n",
       "        vertical-align: middle;\n",
       "    }\n",
       "\n",
       "    .dataframe tbody tr th {\n",
       "        vertical-align: top;\n",
       "    }\n",
       "\n",
       "    .dataframe thead th {\n",
       "        text-align: right;\n",
       "    }\n",
       "</style>\n",
       "<table border=\"1\" class=\"dataframe\">\n",
       "  <thead>\n",
       "    <tr style=\"text-align: right;\">\n",
       "      <th></th>\n",
       "      <th>PassengerId</th>\n",
       "      <th>Survived</th>\n",
       "      <th>Pclass</th>\n",
       "      <th>Name</th>\n",
       "      <th>Sex</th>\n",
       "      <th>Age</th>\n",
       "      <th>SibSp</th>\n",
       "      <th>Parch</th>\n",
       "      <th>Ticket</th>\n",
       "      <th>Fare</th>\n",
       "      <th>Cabin</th>\n",
       "      <th>Embarked</th>\n",
       "    </tr>\n",
       "  </thead>\n",
       "  <tbody>\n",
       "    <tr>\n",
       "      <th>0</th>\n",
       "      <td>2</td>\n",
       "      <td>1</td>\n",
       "      <td>1</td>\n",
       "      <td>Cumings, Mrs. John Bradley (Florence Briggs Th...</td>\n",
       "      <td>female</td>\n",
       "      <td>38.0</td>\n",
       "      <td>1</td>\n",
       "      <td>0</td>\n",
       "      <td>PC 17599</td>\n",
       "      <td>71.2833</td>\n",
       "      <td>C85</td>\n",
       "      <td>C</td>\n",
       "    </tr>\n",
       "    <tr>\n",
       "      <th>1</th>\n",
       "      <td>3</td>\n",
       "      <td>1</td>\n",
       "      <td>3</td>\n",
       "      <td>Heikkinen, Miss. Laina</td>\n",
       "      <td>female</td>\n",
       "      <td>26.0</td>\n",
       "      <td>0</td>\n",
       "      <td>0</td>\n",
       "      <td>STON/O2. 3101282</td>\n",
       "      <td>7.9250</td>\n",
       "      <td>NaN</td>\n",
       "      <td>S</td>\n",
       "    </tr>\n",
       "    <tr>\n",
       "      <th>2</th>\n",
       "      <td>4</td>\n",
       "      <td>1</td>\n",
       "      <td>1</td>\n",
       "      <td>Futrelle, Mrs. Jacques Heath (Lily May Peel)</td>\n",
       "      <td>female</td>\n",
       "      <td>35.0</td>\n",
       "      <td>1</td>\n",
       "      <td>0</td>\n",
       "      <td>113803</td>\n",
       "      <td>53.1000</td>\n",
       "      <td>C123</td>\n",
       "      <td>S</td>\n",
       "    </tr>\n",
       "  </tbody>\n",
       "</table>\n",
       "</div>"
      ],
      "text/plain": [
       "   PassengerId  Survived  Pclass  \\\n",
       "0            2         1       1   \n",
       "1            3         1       3   \n",
       "2            4         1       1   \n",
       "\n",
       "                                                Name     Sex   Age  SibSp  \\\n",
       "0  Cumings, Mrs. John Bradley (Florence Briggs Th...  female  38.0      1   \n",
       "1                             Heikkinen, Miss. Laina  female  26.0      0   \n",
       "2       Futrelle, Mrs. Jacques Heath (Lily May Peel)  female  35.0      1   \n",
       "\n",
       "   Parch            Ticket     Fare Cabin Embarked  \n",
       "0      0          PC 17599  71.2833   C85        C  \n",
       "1      0  STON/O2. 3101282   7.9250   NaN        S  \n",
       "2      0            113803  53.1000  C123        S  "
      ]
     },
     "execution_count": 4,
     "metadata": {},
     "output_type": "execute_result"
    }
   ],
   "source": [
    "df_train.head(3)"
   ]
  },
  {
   "cell_type": "code",
   "execution_count": 21,
   "metadata": {},
   "outputs": [
    {
     "name": "stdout",
     "output_type": "stream",
     "text": [
      "Probability of survival is 0.4\n",
      "Probability of death is 0.6\n"
     ]
    }
   ],
   "source": [
    "#Calculating Probability of Survived:\n",
    "prb_srv = df_train[df_train['Survived']==1].shape[0]/df_train.shape[0]\n",
    "prb_die = 1-prb_srv\n",
    "print('Probability of survival is',round(prb_srv,2))\n",
    "print('Probability of death is',round(prb_die,2))"
   ]
  },
  {
   "cell_type": "code",
   "execution_count": 19,
   "metadata": {},
   "outputs": [
    {
     "name": "stdout",
     "output_type": "stream",
     "text": [
      "Odds of survival are 0.67\n",
      "Odds of death are 1.48\n"
     ]
    }
   ],
   "source": [
    "#odds_srv = prob_surv / prob_die\n",
    "odd_srv = prb_srv/prb_die\n",
    "odd_die = prb_die/prb_srv\n",
    "print('Odds of survival are',round(odd_srv,2))\n",
    "print('Odds of death are',round(odd_die,2))"
   ]
  },
  {
   "cell_type": "markdown",
   "metadata": {},
   "source": [
    "<h2>Task 2</h2>\n",
    "<font color=blue><br><b>Run the python code, change the models to include more or less dependent variables and test if the score improves or not."
   ]
  },
  {
   "cell_type": "markdown",
   "metadata": {},
   "source": [
    "<font color=blue>We have not used the original code provided in labs. Instead we have reimported the data set. In the the code below, you will see following steps:\n",
    "<br>1- Importing Data Set\n",
    "<br>2- Label encoding using pd.get_dummies\n",
    "<br>3- Using only \"Age\" as independent variable and seeing the \"Pseudo R-Squared\" using Logit function\n",
    "<br>4- Using all train columns as independent variable and seeing the \"Pseudo R-Squared\" using Logit function\n",
    "<br>5- Assessing the difference and improvement, Removing columns that have P value less than 0.05\n",
    "<br>6- Building a Logistic Regression model on selected columns and printing the accuracy score"
   ]
  },
  {
   "cell_type": "markdown",
   "metadata": {},
   "source": [
    "<h2>Solution:"
   ]
  },
  {
   "cell_type": "code",
   "execution_count": 120,
   "metadata": {},
   "outputs": [],
   "source": [
    "import pandas as pd\n",
    "import numpy as np\n",
    "import matplotlib.pyplot as plt\n",
    "import warnings \n",
    "warnings.filterwarnings(\"ignore\")"
   ]
  },
  {
   "cell_type": "markdown",
   "metadata": {},
   "source": [
    "<h4>Using example given in Workshop assignment:"
   ]
  },
  {
   "cell_type": "code",
   "execution_count": 81,
   "metadata": {},
   "outputs": [
    {
     "data": {
      "text/html": [
       "<div>\n",
       "<style scoped>\n",
       "    .dataframe tbody tr th:only-of-type {\n",
       "        vertical-align: middle;\n",
       "    }\n",
       "\n",
       "    .dataframe tbody tr th {\n",
       "        vertical-align: top;\n",
       "    }\n",
       "\n",
       "    .dataframe thead th {\n",
       "        text-align: right;\n",
       "    }\n",
       "</style>\n",
       "<table border=\"1\" class=\"dataframe\">\n",
       "  <thead>\n",
       "    <tr style=\"text-align: right;\">\n",
       "      <th></th>\n",
       "      <th>Gender</th>\n",
       "      <th>Age</th>\n",
       "      <th>Payment Method</th>\n",
       "      <th>Churn</th>\n",
       "      <th>LastTransaction</th>\n",
       "    </tr>\n",
       "  </thead>\n",
       "  <tbody>\n",
       "    <tr>\n",
       "      <th>0</th>\n",
       "      <td>male</td>\n",
       "      <td>64</td>\n",
       "      <td>credit card</td>\n",
       "      <td>loyal</td>\n",
       "      <td>98</td>\n",
       "    </tr>\n",
       "    <tr>\n",
       "      <th>1</th>\n",
       "      <td>male</td>\n",
       "      <td>35</td>\n",
       "      <td>cheque</td>\n",
       "      <td>churn</td>\n",
       "      <td>118</td>\n",
       "    </tr>\n",
       "    <tr>\n",
       "      <th>2</th>\n",
       "      <td>female</td>\n",
       "      <td>25</td>\n",
       "      <td>credit card</td>\n",
       "      <td>loyal</td>\n",
       "      <td>107</td>\n",
       "    </tr>\n",
       "    <tr>\n",
       "      <th>3</th>\n",
       "      <td>female</td>\n",
       "      <td>39</td>\n",
       "      <td>credit card</td>\n",
       "      <td>NaN</td>\n",
       "      <td>177</td>\n",
       "    </tr>\n",
       "    <tr>\n",
       "      <th>4</th>\n",
       "      <td>male</td>\n",
       "      <td>39</td>\n",
       "      <td>credit card</td>\n",
       "      <td>loyal</td>\n",
       "      <td>90</td>\n",
       "    </tr>\n",
       "  </tbody>\n",
       "</table>\n",
       "</div>"
      ],
      "text/plain": [
       "   Gender  Age Payment Method  Churn  LastTransaction\n",
       "0    male   64    credit card  loyal               98\n",
       "1    male   35         cheque  churn              118\n",
       "2  female   25    credit card  loyal              107\n",
       "3  female   39    credit card    NaN              177\n",
       "4    male   39    credit card  loyal               90"
      ]
     },
     "execution_count": 81,
     "metadata": {},
     "output_type": "execute_result"
    }
   ],
   "source": [
    "df = pd.read_excel('churn.xlsx')\n",
    "df_orig = df.copy()\n",
    "df.head()"
   ]
  },
  {
   "cell_type": "code",
   "execution_count": 82,
   "metadata": {},
   "outputs": [
    {
     "data": {
      "text/html": [
       "<div>\n",
       "<style scoped>\n",
       "    .dataframe tbody tr th:only-of-type {\n",
       "        vertical-align: middle;\n",
       "    }\n",
       "\n",
       "    .dataframe tbody tr th {\n",
       "        vertical-align: top;\n",
       "    }\n",
       "\n",
       "    .dataframe thead th {\n",
       "        text-align: right;\n",
       "    }\n",
       "</style>\n",
       "<table border=\"1\" class=\"dataframe\">\n",
       "  <thead>\n",
       "    <tr style=\"text-align: right;\">\n",
       "      <th></th>\n",
       "      <th>Gender</th>\n",
       "      <th>Age</th>\n",
       "      <th>Payment Method</th>\n",
       "      <th>Churn</th>\n",
       "      <th>LastTransaction</th>\n",
       "      <th>Gender_female</th>\n",
       "      <th>Gender_male</th>\n",
       "      <th>Payment Method_cash</th>\n",
       "      <th>Payment Method_cheque</th>\n",
       "      <th>Payment Method_credit card</th>\n",
       "      <th>Churn_churn</th>\n",
       "      <th>Churn_loyal</th>\n",
       "    </tr>\n",
       "  </thead>\n",
       "  <tbody>\n",
       "    <tr>\n",
       "      <th>0</th>\n",
       "      <td>male</td>\n",
       "      <td>64</td>\n",
       "      <td>credit card</td>\n",
       "      <td>loyal</td>\n",
       "      <td>98</td>\n",
       "      <td>0</td>\n",
       "      <td>1</td>\n",
       "      <td>0</td>\n",
       "      <td>0</td>\n",
       "      <td>1</td>\n",
       "      <td>0</td>\n",
       "      <td>1</td>\n",
       "    </tr>\n",
       "    <tr>\n",
       "      <th>1</th>\n",
       "      <td>male</td>\n",
       "      <td>35</td>\n",
       "      <td>cheque</td>\n",
       "      <td>churn</td>\n",
       "      <td>118</td>\n",
       "      <td>0</td>\n",
       "      <td>1</td>\n",
       "      <td>0</td>\n",
       "      <td>1</td>\n",
       "      <td>0</td>\n",
       "      <td>1</td>\n",
       "      <td>0</td>\n",
       "    </tr>\n",
       "    <tr>\n",
       "      <th>2</th>\n",
       "      <td>female</td>\n",
       "      <td>25</td>\n",
       "      <td>credit card</td>\n",
       "      <td>loyal</td>\n",
       "      <td>107</td>\n",
       "      <td>1</td>\n",
       "      <td>0</td>\n",
       "      <td>0</td>\n",
       "      <td>0</td>\n",
       "      <td>1</td>\n",
       "      <td>0</td>\n",
       "      <td>1</td>\n",
       "    </tr>\n",
       "    <tr>\n",
       "      <th>3</th>\n",
       "      <td>female</td>\n",
       "      <td>39</td>\n",
       "      <td>credit card</td>\n",
       "      <td>NaN</td>\n",
       "      <td>177</td>\n",
       "      <td>1</td>\n",
       "      <td>0</td>\n",
       "      <td>0</td>\n",
       "      <td>0</td>\n",
       "      <td>1</td>\n",
       "      <td>0</td>\n",
       "      <td>0</td>\n",
       "    </tr>\n",
       "    <tr>\n",
       "      <th>4</th>\n",
       "      <td>male</td>\n",
       "      <td>39</td>\n",
       "      <td>credit card</td>\n",
       "      <td>loyal</td>\n",
       "      <td>90</td>\n",
       "      <td>0</td>\n",
       "      <td>1</td>\n",
       "      <td>0</td>\n",
       "      <td>0</td>\n",
       "      <td>1</td>\n",
       "      <td>0</td>\n",
       "      <td>1</td>\n",
       "    </tr>\n",
       "  </tbody>\n",
       "</table>\n",
       "</div>"
      ],
      "text/plain": [
       "   Gender  Age Payment Method  Churn  LastTransaction  Gender_female  \\\n",
       "0    male   64    credit card  loyal               98              0   \n",
       "1    male   35         cheque  churn              118              0   \n",
       "2  female   25    credit card  loyal              107              1   \n",
       "3  female   39    credit card    NaN              177              1   \n",
       "4    male   39    credit card  loyal               90              0   \n",
       "\n",
       "   Gender_male  Payment Method_cash  Payment Method_cheque  \\\n",
       "0            1                    0                      0   \n",
       "1            1                    0                      1   \n",
       "2            0                    0                      0   \n",
       "3            0                    0                      0   \n",
       "4            1                    0                      0   \n",
       "\n",
       "   Payment Method_credit card  Churn_churn  Churn_loyal  \n",
       "0                           1            0            1  \n",
       "1                           0            1            0  \n",
       "2                           1            0            1  \n",
       "3                           1            0            0  \n",
       "4                           1            0            1  "
      ]
     },
     "execution_count": 82,
     "metadata": {},
     "output_type": "execute_result"
    }
   ],
   "source": [
    "df_new = pd.DataFrame(pd.get_dummies(df[['Gender','Payment Method','Churn']]))\n",
    "df = pd.concat([df, df_new], axis=1, sort=False)\n",
    "df.head()"
   ]
  },
  {
   "cell_type": "code",
   "execution_count": 87,
   "metadata": {},
   "outputs": [
    {
     "data": {
      "text/html": [
       "<div>\n",
       "<style scoped>\n",
       "    .dataframe tbody tr th:only-of-type {\n",
       "        vertical-align: middle;\n",
       "    }\n",
       "\n",
       "    .dataframe tbody tr th {\n",
       "        vertical-align: top;\n",
       "    }\n",
       "\n",
       "    .dataframe thead th {\n",
       "        text-align: right;\n",
       "    }\n",
       "</style>\n",
       "<table border=\"1\" class=\"dataframe\">\n",
       "  <thead>\n",
       "    <tr style=\"text-align: right;\">\n",
       "      <th></th>\n",
       "      <th>Age</th>\n",
       "      <th>LastTransaction</th>\n",
       "      <th>Gender_male</th>\n",
       "      <th>Payment Method_cash</th>\n",
       "      <th>Payment Method_cheque</th>\n",
       "      <th>Payment Method_credit card</th>\n",
       "      <th>Churn_churn</th>\n",
       "    </tr>\n",
       "  </thead>\n",
       "  <tbody>\n",
       "    <tr>\n",
       "      <th>0</th>\n",
       "      <td>64</td>\n",
       "      <td>98</td>\n",
       "      <td>1</td>\n",
       "      <td>0</td>\n",
       "      <td>0</td>\n",
       "      <td>1</td>\n",
       "      <td>0</td>\n",
       "    </tr>\n",
       "    <tr>\n",
       "      <th>1</th>\n",
       "      <td>35</td>\n",
       "      <td>118</td>\n",
       "      <td>1</td>\n",
       "      <td>0</td>\n",
       "      <td>1</td>\n",
       "      <td>0</td>\n",
       "      <td>1</td>\n",
       "    </tr>\n",
       "    <tr>\n",
       "      <th>2</th>\n",
       "      <td>25</td>\n",
       "      <td>107</td>\n",
       "      <td>0</td>\n",
       "      <td>0</td>\n",
       "      <td>0</td>\n",
       "      <td>1</td>\n",
       "      <td>0</td>\n",
       "    </tr>\n",
       "    <tr>\n",
       "      <th>3</th>\n",
       "      <td>39</td>\n",
       "      <td>177</td>\n",
       "      <td>0</td>\n",
       "      <td>0</td>\n",
       "      <td>0</td>\n",
       "      <td>1</td>\n",
       "      <td>0</td>\n",
       "    </tr>\n",
       "    <tr>\n",
       "      <th>4</th>\n",
       "      <td>39</td>\n",
       "      <td>90</td>\n",
       "      <td>1</td>\n",
       "      <td>0</td>\n",
       "      <td>0</td>\n",
       "      <td>1</td>\n",
       "      <td>0</td>\n",
       "    </tr>\n",
       "  </tbody>\n",
       "</table>\n",
       "</div>"
      ],
      "text/plain": [
       "   Age  LastTransaction  Gender_male  Payment Method_cash  \\\n",
       "0   64               98            1                    0   \n",
       "1   35              118            1                    0   \n",
       "2   25              107            0                    0   \n",
       "3   39              177            0                    0   \n",
       "4   39               90            1                    0   \n",
       "\n",
       "   Payment Method_cheque  Payment Method_credit card  Churn_churn  \n",
       "0                      0                           1            0  \n",
       "1                      1                           0            1  \n",
       "2                      0                           1            0  \n",
       "3                      0                           1            0  \n",
       "4                      0                           1            0  "
      ]
     },
     "execution_count": 87,
     "metadata": {},
     "output_type": "execute_result"
    }
   ],
   "source": [
    "#Dropping unnecessary columns\n",
    "df =df.drop(columns=['Gender','Payment Method','Churn','Churn_loyal','Gender_female'],axis=0, errors = 'ignore')\n",
    "df.head()"
   ]
  },
  {
   "cell_type": "code",
   "execution_count": 88,
   "metadata": {},
   "outputs": [],
   "source": [
    "from sklearn.preprocessing import MinMaxScaler\n",
    "scaler = MinMaxScaler()\n",
    "def scale_it(df_X):\n",
    "    df_X = pd.DataFrame(scaler.fit_transform(df_X),columns = df_X.columns.values)\n",
    "    return df_X"
   ]
  },
  {
   "cell_type": "code",
   "execution_count": 89,
   "metadata": {},
   "outputs": [
    {
     "name": "stderr",
     "output_type": "stream",
     "text": [
      "/anaconda3/lib/python3.6/site-packages/sklearn/preprocessing/data.py:334: DataConversionWarning: Data with input dtype uint8, int64 were all converted to float64 by MinMaxScaler.\n",
      "  return self.partial_fit(X, y)\n"
     ]
    },
    {
     "data": {
      "text/html": [
       "<div>\n",
       "<style scoped>\n",
       "    .dataframe tbody tr th:only-of-type {\n",
       "        vertical-align: middle;\n",
       "    }\n",
       "\n",
       "    .dataframe tbody tr th {\n",
       "        vertical-align: top;\n",
       "    }\n",
       "\n",
       "    .dataframe thead th {\n",
       "        text-align: right;\n",
       "    }\n",
       "</style>\n",
       "<table border=\"1\" class=\"dataframe\">\n",
       "  <thead>\n",
       "    <tr style=\"text-align: right;\">\n",
       "      <th></th>\n",
       "      <th>Age</th>\n",
       "      <th>LastTransaction</th>\n",
       "      <th>Gender_male</th>\n",
       "      <th>Payment Method_cash</th>\n",
       "      <th>Payment Method_cheque</th>\n",
       "      <th>Payment Method_credit card</th>\n",
       "      <th>Churn_churn</th>\n",
       "    </tr>\n",
       "  </thead>\n",
       "  <tbody>\n",
       "    <tr>\n",
       "      <th>0</th>\n",
       "      <td>0.635135</td>\n",
       "      <td>0.436937</td>\n",
       "      <td>1.0</td>\n",
       "      <td>0.0</td>\n",
       "      <td>0.0</td>\n",
       "      <td>1.0</td>\n",
       "      <td>0.0</td>\n",
       "    </tr>\n",
       "    <tr>\n",
       "      <th>1</th>\n",
       "      <td>0.243243</td>\n",
       "      <td>0.527027</td>\n",
       "      <td>1.0</td>\n",
       "      <td>0.0</td>\n",
       "      <td>1.0</td>\n",
       "      <td>0.0</td>\n",
       "      <td>1.0</td>\n",
       "    </tr>\n",
       "    <tr>\n",
       "      <th>2</th>\n",
       "      <td>0.108108</td>\n",
       "      <td>0.477477</td>\n",
       "      <td>0.0</td>\n",
       "      <td>0.0</td>\n",
       "      <td>0.0</td>\n",
       "      <td>1.0</td>\n",
       "      <td>0.0</td>\n",
       "    </tr>\n",
       "    <tr>\n",
       "      <th>3</th>\n",
       "      <td>0.297297</td>\n",
       "      <td>0.792793</td>\n",
       "      <td>0.0</td>\n",
       "      <td>0.0</td>\n",
       "      <td>0.0</td>\n",
       "      <td>1.0</td>\n",
       "      <td>0.0</td>\n",
       "    </tr>\n",
       "    <tr>\n",
       "      <th>4</th>\n",
       "      <td>0.297297</td>\n",
       "      <td>0.400901</td>\n",
       "      <td>1.0</td>\n",
       "      <td>0.0</td>\n",
       "      <td>0.0</td>\n",
       "      <td>1.0</td>\n",
       "      <td>0.0</td>\n",
       "    </tr>\n",
       "  </tbody>\n",
       "</table>\n",
       "</div>"
      ],
      "text/plain": [
       "        Age  LastTransaction  Gender_male  Payment Method_cash  \\\n",
       "0  0.635135         0.436937          1.0                  0.0   \n",
       "1  0.243243         0.527027          1.0                  0.0   \n",
       "2  0.108108         0.477477          0.0                  0.0   \n",
       "3  0.297297         0.792793          0.0                  0.0   \n",
       "4  0.297297         0.400901          1.0                  0.0   \n",
       "\n",
       "   Payment Method_cheque  Payment Method_credit card  Churn_churn  \n",
       "0                    0.0                         1.0          0.0  \n",
       "1                    1.0                         0.0          1.0  \n",
       "2                    0.0                         1.0          0.0  \n",
       "3                    0.0                         1.0          0.0  \n",
       "4                    0.0                         1.0          0.0  "
      ]
     },
     "execution_count": 89,
     "metadata": {},
     "output_type": "execute_result"
    }
   ],
   "source": [
    "df = scale_it(df)\n",
    "df.head()"
   ]
  },
  {
   "cell_type": "code",
   "execution_count": 90,
   "metadata": {},
   "outputs": [
    {
     "data": {
      "text/plain": [
       "Index(['Age', 'LastTransaction', 'Gender_male', 'Payment Method_cash',\n",
       "       'Payment Method_cheque', 'Payment Method_credit card', 'Churn_churn'],\n",
       "      dtype='object')"
      ]
     },
     "execution_count": 90,
     "metadata": {},
     "output_type": "execute_result"
    }
   ],
   "source": [
    "df.columns"
   ]
  },
  {
   "cell_type": "code",
   "execution_count": 91,
   "metadata": {},
   "outputs": [],
   "source": [
    "col_dict = {\n",
    "    'train_cols' : ['Age', 'LastTransaction', 'Gender_male', 'Payment Method_cash',\n",
    "       'Payment Method_cheque', 'Payment Method_credit card']\n",
    "    ,'pred_cols' : ['Churn_churn']\n",
    "    }"
   ]
  },
  {
   "cell_type": "markdown",
   "metadata": {},
   "source": [
    "<font color= blue>Using only Age as predictor</font>"
   ]
  },
  {
   "cell_type": "code",
   "execution_count": 103,
   "metadata": {},
   "outputs": [
    {
     "name": "stdout",
     "output_type": "stream",
     "text": [
      "Optimization terminated successfully.\n",
      "         Current function value: 0.670667\n",
      "         Iterations 4\n"
     ]
    },
    {
     "data": {
      "text/html": [
       "<table class=\"simpletable\">\n",
       "<caption>Logit Regression Results</caption>\n",
       "<tr>\n",
       "  <th>Dep. Variable:</th>    <td>Churn_churn</td>   <th>  No. Observations:  </th>  <td>   996</td> \n",
       "</tr>\n",
       "<tr>\n",
       "  <th>Model:</th>               <td>Logit</td>      <th>  Df Residuals:      </th>  <td>   995</td> \n",
       "</tr>\n",
       "<tr>\n",
       "  <th>Method:</th>               <td>MLE</td>       <th>  Df Model:          </th>  <td>     0</td> \n",
       "</tr>\n",
       "<tr>\n",
       "  <th>Date:</th>          <td>Wed, 10 Jul 2019</td> <th>  Pseudo R-squ.:     </th> <td>-0.06569</td>\n",
       "</tr>\n",
       "<tr>\n",
       "  <th>Time:</th>              <td>10:09:43</td>     <th>  Log-Likelihood:    </th> <td> -667.98</td>\n",
       "</tr>\n",
       "<tr>\n",
       "  <th>converged:</th>           <td>True</td>       <th>  LL-Null:           </th> <td> -626.81</td>\n",
       "</tr>\n",
       "<tr>\n",
       "  <th> </th>                      <td> </td>        <th>  LLR p-value:       </th>  <td>   nan</td> \n",
       "</tr>\n",
       "</table>\n",
       "<table class=\"simpletable\">\n",
       "<tr>\n",
       "   <td></td>      <th>coef</th>     <th>std err</th>      <th>z</th>      <th>P>|z|</th>  <th>[0.025</th>    <th>0.975]</th>  \n",
       "</tr>\n",
       "<tr>\n",
       "  <th>Age</th> <td>   -0.9402</td> <td>    0.144</td> <td>   -6.528</td> <td> 0.000</td> <td>   -1.222</td> <td>   -0.658</td>\n",
       "</tr>\n",
       "</table>"
      ],
      "text/plain": [
       "<class 'statsmodels.iolib.summary.Summary'>\n",
       "\"\"\"\n",
       "                           Logit Regression Results                           \n",
       "==============================================================================\n",
       "Dep. Variable:            Churn_churn   No. Observations:                  996\n",
       "Model:                          Logit   Df Residuals:                      995\n",
       "Method:                           MLE   Df Model:                            0\n",
       "Date:                Wed, 10 Jul 2019   Pseudo R-squ.:                -0.06569\n",
       "Time:                        10:09:43   Log-Likelihood:                -667.98\n",
       "converged:                       True   LL-Null:                       -626.81\n",
       "                                        LLR p-value:                       nan\n",
       "==============================================================================\n",
       "                 coef    std err          z      P>|z|      [0.025      0.975]\n",
       "------------------------------------------------------------------------------\n",
       "Age           -0.9402      0.144     -6.528      0.000      -1.222      -0.658\n",
       "==============================================================================\n",
       "\"\"\""
      ]
     },
     "execution_count": 103,
     "metadata": {},
     "output_type": "execute_result"
    }
   ],
   "source": [
    "from statsmodels.api import Logit\n",
    "\n",
    "Logit(df[col_dict['pred_cols']],df['Age']).fit().summary()"
   ]
  },
  {
   "cell_type": "markdown",
   "metadata": {},
   "source": [
    "<font color = blue>Let's add more columns now and see if Pseudo R-squ increases. We are also interested in removing columns that have P value less than 0.05."
   ]
  },
  {
   "cell_type": "code",
   "execution_count": 104,
   "metadata": {},
   "outputs": [
    {
     "name": "stdout",
     "output_type": "stream",
     "text": [
      "Optimization terminated successfully.\n",
      "         Current function value: 0.439837\n",
      "         Iterations 6\n"
     ]
    },
    {
     "data": {
      "text/html": [
       "<table class=\"simpletable\">\n",
       "<caption>Logit Regression Results</caption>\n",
       "<tr>\n",
       "  <th>Dep. Variable:</th>    <td>Churn_churn</td>   <th>  No. Observations:  </th>  <td>   996</td>  \n",
       "</tr>\n",
       "<tr>\n",
       "  <th>Model:</th>               <td>Logit</td>      <th>  Df Residuals:      </th>  <td>   990</td>  \n",
       "</tr>\n",
       "<tr>\n",
       "  <th>Method:</th>               <td>MLE</td>       <th>  Df Model:          </th>  <td>     5</td>  \n",
       "</tr>\n",
       "<tr>\n",
       "  <th>Date:</th>          <td>Wed, 10 Jul 2019</td> <th>  Pseudo R-squ.:     </th>  <td>0.3011</td>  \n",
       "</tr>\n",
       "<tr>\n",
       "  <th>Time:</th>              <td>10:10:45</td>     <th>  Log-Likelihood:    </th> <td> -438.08</td> \n",
       "</tr>\n",
       "<tr>\n",
       "  <th>converged:</th>           <td>True</td>       <th>  LL-Null:           </th> <td> -626.81</td> \n",
       "</tr>\n",
       "<tr>\n",
       "  <th> </th>                      <td> </td>        <th>  LLR p-value:       </th> <td>2.130e-79</td>\n",
       "</tr>\n",
       "</table>\n",
       "<table class=\"simpletable\">\n",
       "<tr>\n",
       "               <td></td>                 <th>coef</th>     <th>std err</th>      <th>z</th>      <th>P>|z|</th>  <th>[0.025</th>    <th>0.975]</th>  \n",
       "</tr>\n",
       "<tr>\n",
       "  <th>Age</th>                        <td>    1.6106</td> <td>    0.350</td> <td>    4.603</td> <td> 0.000</td> <td>    0.925</td> <td>    2.296</td>\n",
       "</tr>\n",
       "<tr>\n",
       "  <th>LastTransaction</th>            <td>    1.2837</td> <td>    0.442</td> <td>    2.904</td> <td> 0.004</td> <td>    0.417</td> <td>    2.150</td>\n",
       "</tr>\n",
       "<tr>\n",
       "  <th>Gender_male</th>                <td>   -2.7721</td> <td>    0.192</td> <td>  -14.409</td> <td> 0.000</td> <td>   -3.149</td> <td>   -2.395</td>\n",
       "</tr>\n",
       "<tr>\n",
       "  <th>Payment Method_cash</th>        <td>   -0.3271</td> <td>    0.323</td> <td>   -1.012</td> <td> 0.311</td> <td>   -0.960</td> <td>    0.306</td>\n",
       "</tr>\n",
       "<tr>\n",
       "  <th>Payment Method_cheque</th>      <td>   -0.2149</td> <td>    0.418</td> <td>   -0.514</td> <td> 0.607</td> <td>   -1.035</td> <td>    0.605</td>\n",
       "</tr>\n",
       "<tr>\n",
       "  <th>Payment Method_credit card</th> <td>   -1.1688</td> <td>    0.256</td> <td>   -4.573</td> <td> 0.000</td> <td>   -1.670</td> <td>   -0.668</td>\n",
       "</tr>\n",
       "</table>"
      ],
      "text/plain": [
       "<class 'statsmodels.iolib.summary.Summary'>\n",
       "\"\"\"\n",
       "                           Logit Regression Results                           \n",
       "==============================================================================\n",
       "Dep. Variable:            Churn_churn   No. Observations:                  996\n",
       "Model:                          Logit   Df Residuals:                      990\n",
       "Method:                           MLE   Df Model:                            5\n",
       "Date:                Wed, 10 Jul 2019   Pseudo R-squ.:                  0.3011\n",
       "Time:                        10:10:45   Log-Likelihood:                -438.08\n",
       "converged:                       True   LL-Null:                       -626.81\n",
       "                                        LLR p-value:                 2.130e-79\n",
       "==============================================================================================\n",
       "                                 coef    std err          z      P>|z|      [0.025      0.975]\n",
       "----------------------------------------------------------------------------------------------\n",
       "Age                            1.6106      0.350      4.603      0.000       0.925       2.296\n",
       "LastTransaction                1.2837      0.442      2.904      0.004       0.417       2.150\n",
       "Gender_male                   -2.7721      0.192    -14.409      0.000      -3.149      -2.395\n",
       "Payment Method_cash           -0.3271      0.323     -1.012      0.311      -0.960       0.306\n",
       "Payment Method_cheque         -0.2149      0.418     -0.514      0.607      -1.035       0.605\n",
       "Payment Method_credit card    -1.1688      0.256     -4.573      0.000      -1.670      -0.668\n",
       "==============================================================================================\n",
       "\"\"\""
      ]
     },
     "execution_count": 104,
     "metadata": {},
     "output_type": "execute_result"
    }
   ],
   "source": [
    "Logit(df[col_dict['pred_cols']],df[col_dict['train_cols']]).fit().summary()"
   ]
  },
  {
   "cell_type": "markdown",
   "metadata": {},
   "source": [
    "<font color = blue>Removing some columns because of high P value and making a new train col list."
   ]
  },
  {
   "cell_type": "code",
   "execution_count": 105,
   "metadata": {},
   "outputs": [
    {
     "name": "stdout",
     "output_type": "stream",
     "text": [
      "Optimization terminated successfully.\n",
      "         Current function value: 0.440357\n",
      "         Iterations 6\n"
     ]
    },
    {
     "data": {
      "text/html": [
       "<table class=\"simpletable\">\n",
       "<caption>Logit Regression Results</caption>\n",
       "<tr>\n",
       "  <th>Dep. Variable:</th>    <td>Churn_churn</td>   <th>  No. Observations:  </th>  <td>   996</td>  \n",
       "</tr>\n",
       "<tr>\n",
       "  <th>Model:</th>               <td>Logit</td>      <th>  Df Residuals:      </th>  <td>   992</td>  \n",
       "</tr>\n",
       "<tr>\n",
       "  <th>Method:</th>               <td>MLE</td>       <th>  Df Model:          </th>  <td>     3</td>  \n",
       "</tr>\n",
       "<tr>\n",
       "  <th>Date:</th>          <td>Wed, 10 Jul 2019</td> <th>  Pseudo R-squ.:     </th>  <td>0.3003</td>  \n",
       "</tr>\n",
       "<tr>\n",
       "  <th>Time:</th>              <td>10:13:23</td>     <th>  Log-Likelihood:    </th> <td> -438.60</td> \n",
       "</tr>\n",
       "<tr>\n",
       "  <th>converged:</th>           <td>True</td>       <th>  LL-Null:           </th> <td> -626.81</td> \n",
       "</tr>\n",
       "<tr>\n",
       "  <th> </th>                      <td> </td>        <th>  LLR p-value:       </th> <td>2.823e-81</td>\n",
       "</tr>\n",
       "</table>\n",
       "<table class=\"simpletable\">\n",
       "<tr>\n",
       "               <td></td>                 <th>coef</th>     <th>std err</th>      <th>z</th>      <th>P>|z|</th>  <th>[0.025</th>    <th>0.975]</th>  \n",
       "</tr>\n",
       "<tr>\n",
       "  <th>Age</th>                        <td>    1.5394</td> <td>    0.343</td> <td>    4.483</td> <td> 0.000</td> <td>    0.866</td> <td>    2.212</td>\n",
       "</tr>\n",
       "<tr>\n",
       "  <th>LastTransaction</th>            <td>    0.9710</td> <td>    0.294</td> <td>    3.303</td> <td> 0.001</td> <td>    0.395</td> <td>    1.547</td>\n",
       "</tr>\n",
       "<tr>\n",
       "  <th>Gender_male</th>                <td>   -2.8326</td> <td>    0.183</td> <td>  -15.510</td> <td> 0.000</td> <td>   -3.191</td> <td>   -2.475</td>\n",
       "</tr>\n",
       "<tr>\n",
       "  <th>Payment Method_credit card</th> <td>   -0.9711</td> <td>    0.150</td> <td>   -6.462</td> <td> 0.000</td> <td>   -1.266</td> <td>   -0.677</td>\n",
       "</tr>\n",
       "</table>"
      ],
      "text/plain": [
       "<class 'statsmodels.iolib.summary.Summary'>\n",
       "\"\"\"\n",
       "                           Logit Regression Results                           \n",
       "==============================================================================\n",
       "Dep. Variable:            Churn_churn   No. Observations:                  996\n",
       "Model:                          Logit   Df Residuals:                      992\n",
       "Method:                           MLE   Df Model:                            3\n",
       "Date:                Wed, 10 Jul 2019   Pseudo R-squ.:                  0.3003\n",
       "Time:                        10:13:23   Log-Likelihood:                -438.60\n",
       "converged:                       True   LL-Null:                       -626.81\n",
       "                                        LLR p-value:                 2.823e-81\n",
       "==============================================================================================\n",
       "                                 coef    std err          z      P>|z|      [0.025      0.975]\n",
       "----------------------------------------------------------------------------------------------\n",
       "Age                            1.5394      0.343      4.483      0.000       0.866       2.212\n",
       "LastTransaction                0.9710      0.294      3.303      0.001       0.395       1.547\n",
       "Gender_male                   -2.8326      0.183    -15.510      0.000      -3.191      -2.475\n",
       "Payment Method_credit card    -0.9711      0.150     -6.462      0.000      -1.266      -0.677\n",
       "==============================================================================================\n",
       "\"\"\""
      ]
     },
     "execution_count": 105,
     "metadata": {},
     "output_type": "execute_result"
    }
   ],
   "source": [
    "col_dict['train_cols_opt'] = ['Age','LastTransaction','Gender_male','Payment Method_credit card']\n",
    "Logit(df[col_dict['pred_cols']],df[col_dict['train_cols_opt']]).fit().summary()"
   ]
  },
  {
   "cell_type": "code",
   "execution_count": 158,
   "metadata": {},
   "outputs": [
    {
     "data": {
      "text/plain": [
       "LogisticRegression(C=1.0, class_weight=None, dual=False, fit_intercept=True,\n",
       "          intercept_scaling=1, max_iter=100, multi_class='warn',\n",
       "          n_jobs=None, penalty='l2', random_state=None, solver='warn',\n",
       "          tol=0.0001, verbose=0, warm_start=False)"
      ]
     },
     "execution_count": 158,
     "metadata": {},
     "output_type": "execute_result"
    }
   ],
   "source": [
    "from sklearn.linear_model import LogisticRegression\n",
    "from sklearn.model_selection import train_test_split\n",
    "\n",
    "df_train, df_test = train_test_split(df, test_size=0.2, random_state=0)\n",
    "\n",
    "clf = LogisticRegression()\n",
    "clf.fit(df_train[col_dict['train_cols_opt']],df_train[col_dict['pred_cols']])"
   ]
  },
  {
   "cell_type": "code",
   "execution_count": 159,
   "metadata": {},
   "outputs": [
    {
     "name": "stdout",
     "output_type": "stream",
     "text": [
      "Accuracy Score on Unseen data for final model is 0.79\n"
     ]
    }
   ],
   "source": [
    "from sklearn.metrics import accuracy_score\n",
    "print(\"Accuracy Score on Unseen data for final model is\",accuracy_score(df_test[col_dict['pred_cols']],clf.predict(df_test[col_dict['train_cols_opt']])))"
   ]
  },
  {
   "cell_type": "markdown",
   "metadata": {},
   "source": [
    "<h2>Task 3</h2>\n",
    "<br><font color=blue>Calculate the actual odds and probabilities from the coefficients calculated from the logistic model.\n",
    "    <br><br>Here we will define a function to convert cofficients to Odds and then to Probability. Each os these cofficients are for variables (in sequence) \"Age, Last Transaction, Gender being male, Payment Method Credit Card"
   ]
  },
  {
   "cell_type": "code",
   "execution_count": 160,
   "metadata": {},
   "outputs": [],
   "source": [
    "def logit2oddprob(lst):\n",
    "    for num,i in enumerate(list(lst)):\n",
    "        print('Odds from cofficients are',np.exp(i))\n",
    "        print('Probability are cofficient is',(np.exp(i)/1+np.exp(i)))"
   ]
  },
  {
   "cell_type": "code",
   "execution_count": 161,
   "metadata": {},
   "outputs": [
    {
     "data": {
      "text/plain": [
       "['Age', 'LastTransaction', 'Gender_male', 'Payment Method_credit card']"
      ]
     },
     "execution_count": 161,
     "metadata": {},
     "output_type": "execute_result"
    }
   ],
   "source": [
    "col_dict['train_cols_opt']"
   ]
  },
  {
   "cell_type": "code",
   "execution_count": 162,
   "metadata": {},
   "outputs": [
    {
     "name": "stdout",
     "output_type": "stream",
     "text": [
      "Odds from cofficients are [3.97567986 3.72417245 0.07271991 0.39384601]\n",
      "Probability are cofficient is [7.95135971 7.44834491 0.14543982 0.78769202]\n"
     ]
    }
   ],
   "source": [
    "logit2oddprob(clf.coef_)"
   ]
  },
  {
   "cell_type": "code",
   "execution_count": null,
   "metadata": {},
   "outputs": [],
   "source": []
  }
 ],
 "metadata": {
  "kernelspec": {
   "display_name": "Python 3",
   "language": "python",
   "name": "python3"
  },
  "language_info": {
   "codemirror_mode": {
    "name": "ipython",
    "version": 3
   },
   "file_extension": ".py",
   "mimetype": "text/x-python",
   "name": "python",
   "nbconvert_exporter": "python",
   "pygments_lexer": "ipython3",
   "version": "3.6.4"
  }
 },
 "nbformat": 4,
 "nbformat_minor": 2
}
